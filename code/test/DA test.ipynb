{
  "cells": [
    {
      "cell_type": "code",
      "execution_count": 21,
      "metadata": {
        "colab": {
          "base_uri": "https://localhost:8080/"
        },
        "id": "o98K_qDtq7H9",
        "outputId": "16fa5b7a-9da7-499b-9edc-9082a3d01266"
      },
      "outputs": [
        {
          "name": "stdout",
          "output_type": "stream",
          "text": [
            "Requirement already satisfied: sacremoses in /usr/local/lib/python3.10/dist-packages (0.1.1)\n",
            "Requirement already satisfied: regex in /usr/local/lib/python3.10/dist-packages (from sacremoses) (2023.6.3)\n",
            "Requirement already satisfied: click in /usr/local/lib/python3.10/dist-packages (from sacremoses) (8.1.7)\n",
            "Requirement already satisfied: joblib in /usr/local/lib/python3.10/dist-packages (from sacremoses) (1.3.2)\n",
            "Requirement already satisfied: tqdm in /usr/local/lib/python3.10/dist-packages (from sacremoses) (4.66.1)\n"
          ]
        }
      ],
      "source": [
        "!pip install -U sacremoses  # biogpt tokenizer"
      ]
    },
    {
      "cell_type": "code",
      "execution_count": 22,
      "metadata": {
        "id": "NS3ugRnvotZD"
      },
      "outputs": [],
      "source": [
        "import torch\n",
        "from torch.utils.data import DataLoader, Dataset\n",
        "from transformers import AutoTokenizer, AutoModelForSequenceClassification, AdamW\n",
        "from sklearn.model_selection import train_test_split\n",
        "import re\n",
        "import pandas as pd\n",
        "import numpy as np\n",
        "import torch.nn as nn\n",
        "import torch.optim as optim\n",
        "import torch.nn.functional as F\n",
        "from tqdm.auto import tqdm"
      ]
    },
    {
      "cell_type": "code",
      "execution_count": 42,
      "metadata": {
        "colab": {
          "base_uri": "https://localhost:8080/",
          "height": 224
        },
        "id": "qxD5ebkZomvM",
        "outputId": "fd983432-b6e4-4bc7-8540-cc4b2c29562f"
      },
      "outputs": [
        {
          "name": "stdout",
          "output_type": "stream",
          "text": [
            "Drive already mounted at /content/gdrive; to attempt to forcibly remount, call drive.mount(\"/content/gdrive\", force_remount=True).\n"
          ]
        },
        {
          "data": {
            "text/html": [
              "\n",
              "  <div id=\"df-e1f6e6d8-8476-48d6-941a-a16f7014b11f\" class=\"colab-df-container\">\n",
              "    <div>\n",
              "<style scoped>\n",
              "    .dataframe tbody tr th:only-of-type {\n",
              "        vertical-align: middle;\n",
              "    }\n",
              "\n",
              "    .dataframe tbody tr th {\n",
              "        vertical-align: top;\n",
              "    }\n",
              "\n",
              "    .dataframe thead th {\n",
              "        text-align: right;\n",
              "    }\n",
              "</style>\n",
              "<table border=\"1\" class=\"dataframe\">\n",
              "  <thead>\n",
              "    <tr style=\"text-align: right;\">\n",
              "      <th></th>\n",
              "      <th>text</th>\n",
              "      <th>readmission_30</th>\n",
              "    </tr>\n",
              "  </thead>\n",
              "  <tbody>\n",
              "    <tr>\n",
              "      <th>0</th>\n",
              "      <td>Left periprosthetic femur fracture</td>\n",
              "      <td>1.0</td>\n",
              "    </tr>\n",
              "    <tr>\n",
              "      <th>1</th>\n",
              "      <td>Primary: Acute otitis media, mastoiditis, Bell...</td>\n",
              "      <td>1.0</td>\n",
              "    </tr>\n",
              "    <tr>\n",
              "      <th>2</th>\n",
              "      <td>Elevated LFTsHA stenosisBiliary stricture with...</td>\n",
              "      <td>1.0</td>\n",
              "    </tr>\n",
              "    <tr>\n",
              "      <th>3</th>\n",
              "      <td>Pharyngitis, supraglottitisAcute Kidney Injury...</td>\n",
              "      <td>1.0</td>\n",
              "    </tr>\n",
              "    <tr>\n",
              "      <th>4</th>\n",
              "      <td>Chronic distal common bile duct stricture</td>\n",
              "      <td>1.0</td>\n",
              "    </tr>\n",
              "  </tbody>\n",
              "</table>\n",
              "</div>\n",
              "    <div class=\"colab-df-buttons\">\n",
              "\n",
              "  <div class=\"colab-df-container\">\n",
              "    <button class=\"colab-df-convert\" onclick=\"convertToInteractive('df-e1f6e6d8-8476-48d6-941a-a16f7014b11f')\"\n",
              "            title=\"Convert this dataframe to an interactive table.\"\n",
              "            style=\"display:none;\">\n",
              "\n",
              "  <svg xmlns=\"http://www.w3.org/2000/svg\" height=\"24px\" viewBox=\"0 -960 960 960\">\n",
              "    <path d=\"M120-120v-720h720v720H120Zm60-500h600v-160H180v160Zm220 220h160v-160H400v160Zm0 220h160v-160H400v160ZM180-400h160v-160H180v160Zm440 0h160v-160H620v160ZM180-180h160v-160H180v160Zm440 0h160v-160H620v160Z\"/>\n",
              "  </svg>\n",
              "    </button>\n",
              "\n",
              "  <style>\n",
              "    .colab-df-container {\n",
              "      display:flex;\n",
              "      gap: 12px;\n",
              "    }\n",
              "\n",
              "    .colab-df-convert {\n",
              "      background-color: #E8F0FE;\n",
              "      border: none;\n",
              "      border-radius: 50%;\n",
              "      cursor: pointer;\n",
              "      display: none;\n",
              "      fill: #1967D2;\n",
              "      height: 32px;\n",
              "      padding: 0 0 0 0;\n",
              "      width: 32px;\n",
              "    }\n",
              "\n",
              "    .colab-df-convert:hover {\n",
              "      background-color: #E2EBFA;\n",
              "      box-shadow: 0px 1px 2px rgba(60, 64, 67, 0.3), 0px 1px 3px 1px rgba(60, 64, 67, 0.15);\n",
              "      fill: #174EA6;\n",
              "    }\n",
              "\n",
              "    .colab-df-buttons div {\n",
              "      margin-bottom: 4px;\n",
              "    }\n",
              "\n",
              "    [theme=dark] .colab-df-convert {\n",
              "      background-color: #3B4455;\n",
              "      fill: #D2E3FC;\n",
              "    }\n",
              "\n",
              "    [theme=dark] .colab-df-convert:hover {\n",
              "      background-color: #434B5C;\n",
              "      box-shadow: 0px 1px 3px 1px rgba(0, 0, 0, 0.15);\n",
              "      filter: drop-shadow(0px 1px 2px rgba(0, 0, 0, 0.3));\n",
              "      fill: #FFFFFF;\n",
              "    }\n",
              "  </style>\n",
              "\n",
              "    <script>\n",
              "      const buttonEl =\n",
              "        document.querySelector('#df-e1f6e6d8-8476-48d6-941a-a16f7014b11f button.colab-df-convert');\n",
              "      buttonEl.style.display =\n",
              "        google.colab.kernel.accessAllowed ? 'block' : 'none';\n",
              "\n",
              "      async function convertToInteractive(key) {\n",
              "        const element = document.querySelector('#df-e1f6e6d8-8476-48d6-941a-a16f7014b11f');\n",
              "        const dataTable =\n",
              "          await google.colab.kernel.invokeFunction('convertToInteractive',\n",
              "                                                    [key], {});\n",
              "        if (!dataTable) return;\n",
              "\n",
              "        const docLinkHtml = 'Like what you see? Visit the ' +\n",
              "          '<a target=\"_blank\" href=https://colab.research.google.com/notebooks/data_table.ipynb>data table notebook</a>'\n",
              "          + ' to learn more about interactive tables.';\n",
              "        element.innerHTML = '';\n",
              "        dataTable['output_type'] = 'display_data';\n",
              "        await google.colab.output.renderOutput(dataTable, element);\n",
              "        const docLink = document.createElement('div');\n",
              "        docLink.innerHTML = docLinkHtml;\n",
              "        element.appendChild(docLink);\n",
              "      }\n",
              "    </script>\n",
              "  </div>\n",
              "\n",
              "\n",
              "<div id=\"df-632bbadf-0422-4411-b1d4-2bc2eb412550\">\n",
              "  <button class=\"colab-df-quickchart\" onclick=\"quickchart('df-632bbadf-0422-4411-b1d4-2bc2eb412550')\"\n",
              "            title=\"Suggest charts\"\n",
              "            style=\"display:none;\">\n",
              "\n",
              "<svg xmlns=\"http://www.w3.org/2000/svg\" height=\"24px\"viewBox=\"0 0 24 24\"\n",
              "     width=\"24px\">\n",
              "    <g>\n",
              "        <path d=\"M19 3H5c-1.1 0-2 .9-2 2v14c0 1.1.9 2 2 2h14c1.1 0 2-.9 2-2V5c0-1.1-.9-2-2-2zM9 17H7v-7h2v7zm4 0h-2V7h2v10zm4 0h-2v-4h2v4z\"/>\n",
              "    </g>\n",
              "</svg>\n",
              "  </button>\n",
              "\n",
              "<style>\n",
              "  .colab-df-quickchart {\n",
              "      --bg-color: #E8F0FE;\n",
              "      --fill-color: #1967D2;\n",
              "      --hover-bg-color: #E2EBFA;\n",
              "      --hover-fill-color: #174EA6;\n",
              "      --disabled-fill-color: #AAA;\n",
              "      --disabled-bg-color: #DDD;\n",
              "  }\n",
              "\n",
              "  [theme=dark] .colab-df-quickchart {\n",
              "      --bg-color: #3B4455;\n",
              "      --fill-color: #D2E3FC;\n",
              "      --hover-bg-color: #434B5C;\n",
              "      --hover-fill-color: #FFFFFF;\n",
              "      --disabled-bg-color: #3B4455;\n",
              "      --disabled-fill-color: #666;\n",
              "  }\n",
              "\n",
              "  .colab-df-quickchart {\n",
              "    background-color: var(--bg-color);\n",
              "    border: none;\n",
              "    border-radius: 50%;\n",
              "    cursor: pointer;\n",
              "    display: none;\n",
              "    fill: var(--fill-color);\n",
              "    height: 32px;\n",
              "    padding: 0;\n",
              "    width: 32px;\n",
              "  }\n",
              "\n",
              "  .colab-df-quickchart:hover {\n",
              "    background-color: var(--hover-bg-color);\n",
              "    box-shadow: 0 1px 2px rgba(60, 64, 67, 0.3), 0 1px 3px 1px rgba(60, 64, 67, 0.15);\n",
              "    fill: var(--button-hover-fill-color);\n",
              "  }\n",
              "\n",
              "  .colab-df-quickchart-complete:disabled,\n",
              "  .colab-df-quickchart-complete:disabled:hover {\n",
              "    background-color: var(--disabled-bg-color);\n",
              "    fill: var(--disabled-fill-color);\n",
              "    box-shadow: none;\n",
              "  }\n",
              "\n",
              "  .colab-df-spinner {\n",
              "    border: 2px solid var(--fill-color);\n",
              "    border-color: transparent;\n",
              "    border-bottom-color: var(--fill-color);\n",
              "    animation:\n",
              "      spin 1s steps(1) infinite;\n",
              "  }\n",
              "\n",
              "  @keyframes spin {\n",
              "    0% {\n",
              "      border-color: transparent;\n",
              "      border-bottom-color: var(--fill-color);\n",
              "      border-left-color: var(--fill-color);\n",
              "    }\n",
              "    20% {\n",
              "      border-color: transparent;\n",
              "      border-left-color: var(--fill-color);\n",
              "      border-top-color: var(--fill-color);\n",
              "    }\n",
              "    30% {\n",
              "      border-color: transparent;\n",
              "      border-left-color: var(--fill-color);\n",
              "      border-top-color: var(--fill-color);\n",
              "      border-right-color: var(--fill-color);\n",
              "    }\n",
              "    40% {\n",
              "      border-color: transparent;\n",
              "      border-right-color: var(--fill-color);\n",
              "      border-top-color: var(--fill-color);\n",
              "    }\n",
              "    60% {\n",
              "      border-color: transparent;\n",
              "      border-right-color: var(--fill-color);\n",
              "    }\n",
              "    80% {\n",
              "      border-color: transparent;\n",
              "      border-right-color: var(--fill-color);\n",
              "      border-bottom-color: var(--fill-color);\n",
              "    }\n",
              "    90% {\n",
              "      border-color: transparent;\n",
              "      border-bottom-color: var(--fill-color);\n",
              "    }\n",
              "  }\n",
              "</style>\n",
              "\n",
              "  <script>\n",
              "    async function quickchart(key) {\n",
              "      const quickchartButtonEl =\n",
              "        document.querySelector('#' + key + ' button');\n",
              "      quickchartButtonEl.disabled = true;  // To prevent multiple clicks.\n",
              "      quickchartButtonEl.classList.add('colab-df-spinner');\n",
              "      try {\n",
              "        const charts = await google.colab.kernel.invokeFunction(\n",
              "            'suggestCharts', [key], {});\n",
              "      } catch (error) {\n",
              "        console.error('Error during call to suggestCharts:', error);\n",
              "      }\n",
              "      quickchartButtonEl.classList.remove('colab-df-spinner');\n",
              "      quickchartButtonEl.classList.add('colab-df-quickchart-complete');\n",
              "    }\n",
              "    (() => {\n",
              "      let quickchartButtonEl =\n",
              "        document.querySelector('#df-632bbadf-0422-4411-b1d4-2bc2eb412550 button');\n",
              "      quickchartButtonEl.style.display =\n",
              "        google.colab.kernel.accessAllowed ? 'block' : 'none';\n",
              "    })();\n",
              "  </script>\n",
              "</div>\n",
              "\n",
              "    </div>\n",
              "  </div>\n"
            ],
            "text/plain": [
              "                                                text  readmission_30\n",
              "0                Left periprosthetic femur fracture              1.0\n",
              "1  Primary: Acute otitis media, mastoiditis, Bell...             1.0\n",
              "2  Elevated LFTsHA stenosisBiliary stricture with...             1.0\n",
              "3  Pharyngitis, supraglottitisAcute Kidney Injury...             1.0\n",
              "4         Chronic distal common bile duct stricture              1.0"
            ]
          },
          "execution_count": 42,
          "metadata": {},
          "output_type": "execute_result"
        }
      ],
      "source": [
        "import os\n",
        "from google.colab import drive\n",
        "drive.mount('/content/gdrive')\n",
        "\n",
        "path = \"/content/gdrive/MyDrive/\"\n",
        "os.listdir(path)\n",
        "data = pd.read_csv(path+'test.csv')\n",
        "data.head()"
      ]
    },
    {
      "cell_type": "code",
      "execution_count": 50,
      "metadata": {
        "colab": {
          "base_uri": "https://localhost:8080/"
        },
        "id": "RCNriVI2B4by",
        "outputId": "0cf88b34-1d3e-489f-e19b-7e8abb344e68"
      },
      "outputs": [
        {
          "data": {
            "text/plain": [
              "0    6232\n",
              "1    3768\n",
              "Name: readmission_30, dtype: int64"
            ]
          },
          "execution_count": 50,
          "metadata": {},
          "output_type": "execute_result"
        }
      ],
      "source": [
        "data['readmission_30'] = data['readmission_30'].astype('int64')\n",
        "data['readmission_30'].value_counts()"
      ]
    },
    {
      "cell_type": "code",
      "execution_count": 51,
      "metadata": {
        "id": "Kr2DnwyN5Vkp"
      },
      "outputs": [],
      "source": [
        "def extract_and_combine_conditions(text):\n",
        "    parts = text.split('Secondary:')\n",
        "    primary_conditions = parts[0].replace('Primary:', '').strip()\n",
        "    secondary_conditions = parts[1].strip() if len(parts) > 1 else ''\n",
        "    combined_conditions = primary_conditions + ', ' + secondary_conditions if secondary_conditions else primary_conditions\n",
        "    return combined_conditions"
      ]
    },
    {
      "cell_type": "code",
      "execution_count": 52,
      "metadata": {
        "id": "OsfSZ8bxw-Gg"
      },
      "outputs": [],
      "source": [
        "def clean_text(text):\n",
        "    text = text.lower() \n",
        "    text = re.sub(r'\\b(patientname|patientid):\\s*\\S+', '', text)\n",
        "    text = re.sub(r'[^a-zA-Z0-9\\s]', '', text)\n",
        "    text = extract_and_combine_conditions(text)\n",
        "    return text"
      ]
    },
    {
      "cell_type": "code",
      "execution_count": 53,
      "metadata": {
        "id": "PEJ6GSOvpuu3"
      },
      "outputs": [],
      "source": [
        "class ReadmissionDataset(Dataset):\n",
        "    def __init__(self, encodings, labels):\n",
        "        self.encodings = encodings  \n",
        "        self.labels = labels\n",
        "\n",
        "    def __getitem__(self, idx):\n",
        "        item = {key: torch.tensor(self.encodings[key][idx]) for key in self.encodings}\n",
        "        item['labels'] = torch.tensor(self.labels[idx], dtype=torch.long)\n",
        "        return item\n",
        "\n",
        "    def __len__(self):\n",
        "        return len(self.labels)"
      ]
    },
    {
      "cell_type": "code",
      "execution_count": 54,
      "metadata": {
        "id": "zZLuMEiHxAUZ"
      },
      "outputs": [],
      "source": [
        "data['clean_text']=data['text'].apply(clean_text)"
      ]
    },
    {
      "cell_type": "code",
      "execution_count": 55,
      "metadata": {
        "id": "w9c_6abmo1fB"
      },
      "outputs": [],
      "source": [
        "test_texts, test_labels = data['clean_text'], data['readmission_30']"
      ]
    },
    {
      "cell_type": "code",
      "execution_count": 56,
      "metadata": {
        "id": "p2z3pgfy5KTj"
      },
      "outputs": [],
      "source": [
        "blue_tokenizer = AutoTokenizer.from_pretrained('Tolerblanc/blue-BERT-Readmission')\n",
        "bioC_tokenizer = AutoTokenizer.from_pretrained('Tolerblanc/bioClinical-BERT-Readmission')\n",
        "sapB_tokenizer = AutoTokenizer.from_pretrained('Tolerblanc/sapBERT-Readmission')\n",
        "bgpt_tokenizer = AutoTokenizer.from_pretrained('Tolerblanc/biogpt_Readmission')\n",
        "cg_tokenizer = AutoTokenizer.from_pretrained('medicalai/ClinicalBERT')"
      ]
    },
    {
      "cell_type": "code",
      "execution_count": 57,
      "metadata": {
        "id": "nguPLDfbpjke"
      },
      "outputs": [],
      "source": [
        "# 토크나이저 사용\n",
        "blue_test_encodings = blue_tokenizer(test_texts.tolist(), truncation=True, padding=True, max_length=128)\n",
        "bioC_test_encodings = bioC_tokenizer(test_texts.tolist(), truncation=True, padding=True, max_length=128)\n",
        "sapB_test_encodings = sapB_tokenizer(test_texts.tolist(), truncation=True, padding=True, max_length=128)\n",
        "bgpt_test_encodings = bgpt_tokenizer(test_texts.tolist(), truncation=True, padding=True, max_length=128)\n",
        "cg_test_encodings = cg_tokenizer(test_texts.tolist(), truncation=True, padding=True, max_length=128)"
      ]
    },
    {
      "cell_type": "code",
      "execution_count": 58,
      "metadata": {
        "id": "tn1EOF0opyZ2"
      },
      "outputs": [],
      "source": [
        "# 데이터셋 생성\n",
        "blue_test_dataset = ReadmissionDataset(blue_test_encodings, test_labels.tolist())\n",
        "bioC_test_dataset = ReadmissionDataset(bioC_test_encodings, test_labels.tolist())\n",
        "sapB_test_dataset = ReadmissionDataset(sapB_test_encodings, test_labels.tolist())\n",
        "bgpt_test_dataset = ReadmissionDataset(bgpt_test_encodings, test_labels.tolist())\n",
        "cg_test_dataset = ReadmissionDataset(cg_test_encodings, test_labels.tolist())"
      ]
    },
    {
      "cell_type": "code",
      "execution_count": 59,
      "metadata": {
        "id": "Dx8Le97T4GYk"
      },
      "outputs": [],
      "source": [
        "blue_test_loader = DataLoader(blue_test_dataset, batch_size=16, shuffle=False)\n",
        "bioC_test_loader = DataLoader(bioC_test_dataset, batch_size=16, shuffle=False)\n",
        "sapB_test_loader = DataLoader(sapB_test_dataset, batch_size=16, shuffle=False)\n",
        "bgpt_test_loader = DataLoader(bgpt_test_dataset, batch_size=16, shuffle=False)\n",
        "cg_test_loader = DataLoader(cg_test_dataset, batch_size=16, shuffle=False)"
      ]
    },
    {
      "cell_type": "code",
      "execution_count": 60,
      "metadata": {
        "colab": {
          "base_uri": "https://localhost:8080/"
        },
        "id": "e1bYh-y0pl1u",
        "outputId": "dcd005cf-c1dd-4edd-8b52-efcca457c3f8"
      },
      "outputs": [
        {
          "name": "stderr",
          "output_type": "stream",
          "text": [
            "Some weights of DistilBertForSequenceClassification were not initialized from the model checkpoint at medicalai/ClinicalBERT and are newly initialized: ['pre_classifier.weight', 'pre_classifier.bias', 'classifier.bias', 'classifier.weight']\n",
            "You should probably TRAIN this model on a down-stream task to be able to use it for predictions and inference.\n"
          ]
        }
      ],
      "source": [
        "blue_model = AutoModelForSequenceClassification.from_pretrained('Tolerblanc/blue-BERT-Readmission', num_labels=data['readmission_30'].nunique())\n",
        "bioC_model = AutoModelForSequenceClassification.from_pretrained('Tolerblanc/bioClinical-BERT-Readmission', num_labels=data['readmission_30'].nunique())\n",
        "sapB_model = AutoModelForSequenceClassification.from_pretrained('Tolerblanc/sapBERT-Readmission', num_labels=data['readmission_30'].nunique())\n",
        "bgpt_model = AutoModelForSequenceClassification.from_pretrained('Tolerblanc/biogpt_Readmission', num_labels=data['readmission_30'].nunique())\n",
        "cg_model = AutoModelForSequenceClassification.from_pretrained('medicalai/ClinicalBERT', num_labels=data['readmission_30'].nunique())"
      ]
    },
    {
      "cell_type": "code",
      "execution_count": 61,
      "metadata": {
        "id": "2IkaWsAEsGzo"
      },
      "outputs": [],
      "source": [
        "# 추론에 GPU사용 시\n",
        "device = torch.device(\"cuda\" if torch.cuda.is_available() else \"cpu\")\n",
        "blue_model.to(device)\n",
        "bioC_model.to(device)\n",
        "sapB_model.to(device)\n",
        "bgpt_model.to(device)\n",
        "cg_model.to(device)\n",
        "\n",
        "criterion = nn.CrossEntropyLoss()"
      ]
    },
    {
      "cell_type": "code",
      "execution_count": 62,
      "metadata": {
        "id": "7mhDFXsQRJcA"
      },
      "outputs": [],
      "source": [
        "from sklearn.metrics import f1_score, recall_score, accuracy_score, precision_score\n",
        "import torch\n",
        "\n",
        "def evaluate(model, test_loader, criterion, device):\n",
        "    model.eval()\n",
        "    total_loss = 0\n",
        "    all_preds = []\n",
        "    all_labels = []\n",
        "\n",
        "    with torch.no_grad():\n",
        "        for batch in test_loader:\n",
        "            input_ids = batch['input_ids'].to(device)\n",
        "            attention_mask = batch['attention_mask'].to(device)\n",
        "            labels = batch['labels'].to(device)\n",
        "\n",
        "            outputs = model(input_ids, attention_mask=attention_mask)\n",
        "            logits = outputs.logits\n",
        "\n",
        "            loss = criterion(logits, labels)\n",
        "            total_loss += loss.item()\n",
        "\n",
        "            preds = torch.argmax(logits, dim=1)\n",
        "            all_preds.extend(preds.cpu().numpy())\n",
        "            all_labels.extend(labels.cpu().numpy())\n",
        "\n",
        "    average_loss = total_loss / len(test_loader)\n",
        "    f1 = f1_score(all_labels, all_preds, average='weighted')\n",
        "    recall = recall_score(all_labels, all_preds, average='weighted')\n",
        "    accuracy = accuracy_score(all_labels, all_preds)\n",
        "    precision = precision_score(all_labels, all_preds, average='weighted')\n",
        "\n",
        "    return average_loss, f1, recall, accuracy, precision\n"
      ]
    },
    {
      "cell_type": "code",
      "execution_count": 63,
      "metadata": {
        "colab": {
          "base_uri": "https://localhost:8080/"
        },
        "id": "Qc4OHnl7PUyj",
        "outputId": "d79b7e12-6d03-4b05-da4d-5138a5b9de0e"
      },
      "outputs": [
        {
          "name": "stdout",
          "output_type": "stream",
          "text": [
            ":: :: Finetuned Blue-BERT Benchmark  :: :: \n",
            "Test Loss: 0.6153, F1 Score: 0.6308, Recall: 0.6666, Accuracy: 0.6666, Precision: 0.6554\n"
          ]
        }
      ],
      "source": [
        "test_loss, test_f1, test_recall, test_acc, test_prec = evaluate(blue_model, blue_test_loader, criterion, device)\n",
        "print(':: :: Finetuned Blue-BERT Benchmark  :: :: ')\n",
        "print(f'Test Loss: {test_loss:.4f}, F1 Score: {test_f1:.4f}, Recall: {test_recall:.4f}, Accuracy: {test_acc:.4f}, Precision: {test_prec:.4f}')"
      ]
    },
    {
      "cell_type": "code",
      "execution_count": 64,
      "metadata": {
        "colab": {
          "base_uri": "https://localhost:8080/"
        },
        "id": "Xg1bM9MOVyeH",
        "outputId": "5e9c154d-7039-4420-81db-f53ed9a7240e"
      },
      "outputs": [
        {
          "name": "stdout",
          "output_type": "stream",
          "text": [
            ":: :: Finetuned bioClinical-BERT Benchmark  :: :: \n",
            "Test Loss: 0.6189, F1 Score: 0.6568, Recall: 0.6654, Accuracy: 0.6654, Precision: 0.6554\n"
          ]
        }
      ],
      "source": [
        "test_loss, test_f1, test_recall, test_acc, test_prec = evaluate(bioC_model, bioC_test_loader, criterion, device)\n",
        "print(':: :: Finetuned bioClinical-BERT Benchmark  :: :: ')\n",
        "print(f'Test Loss: {test_loss:.4f}, F1 Score: {test_f1:.4f}, Recall: {test_recall:.4f}, Accuracy: {test_acc:.4f}, Precision: {test_prec:.4f}')"
      ]
    },
    {
      "cell_type": "code",
      "execution_count": 65,
      "metadata": {
        "colab": {
          "base_uri": "https://localhost:8080/"
        },
        "id": "nrpUXPxlVy5v",
        "outputId": "28b59766-057b-4b2f-add6-55def4c5b9f2"
      },
      "outputs": [
        {
          "name": "stdout",
          "output_type": "stream",
          "text": [
            ":: :: Finetuned Sap-BERT Benchmark  :: :: \n",
            "Test Loss: 0.6213, F1 Score: 0.6688, Recall: 0.6816, Accuracy: 0.6816, Precision: 0.6710\n"
          ]
        }
      ],
      "source": [
        "test_loss, test_f1, test_recall, test_acc, test_prec = evaluate(sapB_model, sapB_test_loader, criterion, device)\n",
        "print(':: :: Finetuned Sap-BERT Benchmark  :: :: ')\n",
        "print(f'Test Loss: {test_loss:.4f}, F1 Score: {test_f1:.4f}, Recall: {test_recall:.4f}, Accuracy: {test_acc:.4f}, Precision: {test_prec:.4f}')"
      ]
    },
    {
      "cell_type": "code",
      "execution_count": 66,
      "metadata": {
        "colab": {
          "base_uri": "https://localhost:8080/"
        },
        "id": "sb5EcI-nVzPX",
        "outputId": "03c8ce18-d133-4c6b-cdb8-6ca1b2c8c2d3"
      },
      "outputs": [
        {
          "name": "stdout",
          "output_type": "stream",
          "text": [
            ":: :: Finetuned biogpt Benchmark  :: :: \n",
            "Test Loss: 0.6278, F1 Score: 0.5854, Recall: 0.6532, Accuracy: 0.6532, Precision: 0.6510\n"
          ]
        }
      ],
      "source": [
        "test_loss, test_f1, test_recall, test_acc, test_prec = evaluate(bgpt_model, bgpt_test_loader, criterion, device)\n",
        "print(':: :: Finetuned biogpt Benchmark  :: :: ')\n",
        "print(f'Test Loss: {test_loss:.4f}, F1 Score: {test_f1:.4f}, Recall: {test_recall:.4f}, Accuracy: {test_acc:.4f}, Precision: {test_prec:.4f}')"
      ]
    },
    {
      "cell_type": "code",
      "execution_count": 67,
      "metadata": {
        "colab": {
          "base_uri": "https://localhost:8080/"
        },
        "id": "KAxoE1Nv9ssj",
        "outputId": "188a02ac-b9ea-4513-e10b-ed0c96c4714e"
      },
      "outputs": [
        {
          "name": "stdout",
          "output_type": "stream",
          "text": [
            ":: :: [Control Group] clinicalBERT Benchmark  :: :: \n",
            "Test Loss: 0.6985, F1 Score: 0.2313, Recall: 0.3844, Accuracy: 0.3844, Precision: 0.5829\n"
          ]
        }
      ],
      "source": [
        "test_loss, test_f1, test_recall, test_acc, test_prec = evaluate(cg_model, cg_test_loader, criterion, device)\n",
        "print(':: :: [Control Group] clinicalBERT Benchmark  :: :: ')\n",
        "print(f'Test Loss: {test_loss:.4f}, F1 Score: {test_f1:.4f}, Recall: {test_recall:.4f}, Accuracy: {test_acc:.4f}, Precision: {test_prec:.4f}')"
      ]
    }
  ],
  "metadata": {
    "accelerator": "GPU",
    "colab": {
      "gpuType": "V100",
      "machine_shape": "hm",
      "provenance": []
    },
    "kernelspec": {
      "display_name": "Python 3",
      "name": "python3"
    },
    "language_info": {
      "name": "python"
    }
  },
  "nbformat": 4,
  "nbformat_minor": 0
}
